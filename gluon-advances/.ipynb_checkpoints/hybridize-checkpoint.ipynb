{
 "cells": [
  {
   "cell_type": "code",
   "execution_count": 1,
   "metadata": {},
   "outputs": [
    {
     "data": {
      "text/plain": [
       "10"
      ]
     },
     "execution_count": 1,
     "metadata": {},
     "output_type": "execute_result"
    }
   ],
   "source": [
    "def add(A, B):\n",
    "    return A + B\n",
    "\n",
    "def fancy_func(A, B, C, D):\n",
    "    E = add(A, B)\n",
    "    F = add(C, D)\n",
    "    G = add(E, F)\n",
    "    return G\n",
    "\n",
    "fancy_func(1, 2, 3, 4)"
   ]
  },
  {
   "cell_type": "code",
   "execution_count": 2,
   "metadata": {},
   "outputs": [
    {
     "name": "stdout",
     "output_type": "stream",
     "text": [
      "10\n"
     ]
    }
   ],
   "source": [
    "def add_str():\n",
    "    return '''\n",
    "def add(A, B):\n",
    "    return A + B\n",
    "'''\n",
    "\n",
    "def fancy_func_str():\n",
    "    return '''\n",
    "def fancy_func(A, B, C, D):\n",
    "    E = add(A, B)\n",
    "    F = add(C, D)\n",
    "    G = add(E, F)\n",
    "    return G\n",
    "'''\n",
    "\n",
    "def evoke_str():\n",
    "    return add_str() + fancy_func_str() + '''\n",
    "print(fancy_func(1, 2, 3, 4))    \n",
    "'''\n",
    "\n",
    "prog = evoke_str()\n",
    "y = compile(prog, '', 'exec')\n",
    "exec(y)"
   ]
  },
  {
   "cell_type": "code",
   "execution_count": 3,
   "metadata": {},
   "outputs": [
    {
     "name": "stderr",
     "output_type": "stream",
     "text": [
      "/home/dyjng/anaconda3/lib/python3.6/site-packages/urllib3/contrib/pyopenssl.py:46: DeprecationWarning: OpenSSL.rand is deprecated - you should use os.urandom instead\n",
      "  import OpenSSL.SSL\n"
     ]
    },
    {
     "data": {
      "text/plain": [
       "\n",
       "[[ 0.13706432  0.2319649 ]]\n",
       "<NDArray 1x2 @cpu(0)>"
      ]
     },
     "execution_count": 3,
     "metadata": {},
     "output_type": "execute_result"
    }
   ],
   "source": [
    "from mxnet.gluon import nn\n",
    "from mxnet import nd\n",
    "\n",
    "def get_net():\n",
    "    net = nn.HybridSequential()\n",
    "    with net.name_scope():\n",
    "        net.add(\n",
    "            nn.Dense(256, activation = 'relu'), \n",
    "            nn.Dense(128, activation = 'relu'),\n",
    "            nn.Dense(2)\n",
    "        )\n",
    "    net.initialize()\n",
    "    return net\n",
    "\n",
    "x = nd.random.normal(shape = (1, 512))\n",
    "net = get_net()\n",
    "net(x)"
   ]
  },
  {
   "cell_type": "code",
   "execution_count": 4,
   "metadata": {},
   "outputs": [
    {
     "data": {
      "text/plain": [
       "\n",
       "[[ 0.13706432  0.2319649 ]]\n",
       "<NDArray 1x2 @cpu(0)>"
      ]
     },
     "execution_count": 4,
     "metadata": {},
     "output_type": "execute_result"
    }
   ],
   "source": [
    "net.hybridize()\n",
    "net(x)"
   ]
  },
  {
   "cell_type": "code",
   "execution_count": 5,
   "metadata": {},
   "outputs": [
    {
     "name": "stdout",
     "output_type": "stream",
     "text": [
      "Before hybridizing: 0.2331 sec\n",
      "After hybridizing: 0.1093 sec\n"
     ]
    }
   ],
   "source": [
    "from time import time\n",
    "def bench(net, x):\n",
    "    start = time()\n",
    "    for i in range(1000):\n",
    "        y = net(x)\n",
    "    # wait all calculate finish\n",
    "    nd.waitall()\n",
    "    return time() - start\n",
    "\n",
    "net = get_net()\n",
    "print('Before hybridizing: %.4f sec' % (bench(net, x)))\n",
    "net.hybridize()\n",
    "print('After hybridizing: %.4f sec' % (bench(net, x)))"
   ]
  },
  {
   "cell_type": "code",
   "execution_count": 6,
   "metadata": {},
   "outputs": [
    {
     "data": {
      "text/plain": [
       "<Symbol hybridsequential1_dense2_fwd>"
      ]
     },
     "execution_count": 6,
     "metadata": {},
     "output_type": "execute_result"
    }
   ],
   "source": [
    "from mxnet import sym\n",
    "\n",
    "x = sym.var('data')\n",
    "y = net(x)\n",
    "y"
   ]
  },
  {
   "cell_type": "code",
   "execution_count": 7,
   "metadata": {
    "collapsed": true
   },
   "outputs": [],
   "source": [
    "class HybridNet(nn.HybridBlock):\n",
    "    def __init__(self, **kwargs):\n",
    "        super(HybridNet, self).__init__(**kwargs)\n",
    "        with self.name_scope():\n",
    "            self.fc1 = nn.Dense(10)\n",
    "            self.fc2 = nn.Dense(2)\n",
    "    \n",
    "    def hybrid_forward(self, F, x):\n",
    "        print(F)\n",
    "        print(x)\n",
    "        x = F.relu(self.fc1(x))\n",
    "        print(x)\n",
    "        return self.fc2(x)"
   ]
  },
  {
   "cell_type": "code",
   "execution_count": 8,
   "metadata": {},
   "outputs": [
    {
     "name": "stdout",
     "output_type": "stream",
     "text": [
      "<module 'mxnet.ndarray' from '/home/dyjng/anaconda3/lib/python3.6/site-packages/mxnet/ndarray/__init__.py'>\n",
      "\n",
      "[[ 0.07395727 -0.39969039 -0.59775633 -0.36118516]]\n",
      "<NDArray 1x4 @cpu(0)>\n",
      "\n",
      "[[ 0.          0.05385821  0.          0.01470048  0.          0.02936197\n",
      "   0.01792259  0.02284899  0.01588759  0.04298554]]\n",
      "<NDArray 1x10 @cpu(0)>\n"
     ]
    }
   ],
   "source": [
    "net = HybridNet()\n",
    "net.initialize()\n",
    "x = nd.random.normal(shape = (1, 4))\n",
    "y = net(x)"
   ]
  },
  {
   "cell_type": "code",
   "execution_count": 9,
   "metadata": {},
   "outputs": [
    {
     "name": "stdout",
     "output_type": "stream",
     "text": [
      "<module 'mxnet.ndarray' from '/home/dyjng/anaconda3/lib/python3.6/site-packages/mxnet/ndarray/__init__.py'>\n",
      "\n",
      "[[ 0.07395727 -0.39969039 -0.59775633 -0.36118516]]\n",
      "<NDArray 1x4 @cpu(0)>\n",
      "\n",
      "[[ 0.          0.05385821  0.          0.01470048  0.          0.02936197\n",
      "   0.01792259  0.02284899  0.01588759  0.04298554]]\n",
      "<NDArray 1x10 @cpu(0)>\n"
     ]
    }
   ],
   "source": [
    "y = net(x)"
   ]
  },
  {
   "cell_type": "code",
   "execution_count": 10,
   "metadata": {},
   "outputs": [
    {
     "name": "stdout",
     "output_type": "stream",
     "text": [
      "<module 'mxnet.symbol' from '/home/dyjng/anaconda3/lib/python3.6/site-packages/mxnet/symbol/__init__.py'>\n",
      "<Symbol data>\n",
      "<Symbol hybridnet0_relu0>\n"
     ]
    }
   ],
   "source": [
    "net.hybridize()\n",
    "y = net(x)"
   ]
  },
  {
   "cell_type": "code",
   "execution_count": 11,
   "metadata": {
    "collapsed": true
   },
   "outputs": [],
   "source": [
    "y = net(x)"
   ]
  }
 ],
 "metadata": {
  "kernelspec": {
   "display_name": "Python 3",
   "language": "python",
   "name": "python3"
  },
  "language_info": {
   "codemirror_mode": {
    "name": "ipython",
    "version": 3
   },
   "file_extension": ".py",
   "mimetype": "text/x-python",
   "name": "python",
   "nbconvert_exporter": "python",
   "pygments_lexer": "ipython3",
   "version": "3.6.3"
  }
 },
 "nbformat": 4,
 "nbformat_minor": 2
}
