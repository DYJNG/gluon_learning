{
 "cells": [
  {
   "cell_type": "code",
   "execution_count": null,
   "metadata": {},
   "outputs": [],
   "source": [
    "import sys\n",
    "sys.path.append('..')\n",
    "import utils\n",
    "from mxnet import gpu\n",
    "from mxnet import cpu\n",
    "\n",
    "net = utils.resnet18(10)\n",
    "# ctx = [gpu(0), gpu(1)]\n",
    "ctx = [gpu(0),cpu(0)]\n",
    "net.initialize(ctx = ctx)"
   ]
  },
  {
   "cell_type": "code",
   "execution_count": null,
   "metadata": {},
   "outputs": [],
   "source": [
    "from mxnet import nd\n",
    "from mxnet import gluon\n",
    "\n",
    "x = nd.random.uniform(shape = (4, 1, 28, 28))\n",
    "x_list = gluon.utils.split_and_load(x, ctx)\n",
    "print(net(x_list[0]))\n",
    "print(net(x_list[1]))"
   ]
  },
  {
   "cell_type": "code",
   "execution_count": null,
   "metadata": {},
   "outputs": [],
   "source": [
    "weight = net[1].params.get('weight')\n",
    "\n",
    "print(weight.data(ctx[0])[0])\n",
    "print(weight.data(ctx[1])[0])\n",
    "\n",
    "try:\n",
    "    weight.data(cpu())\n",
    "except:\n",
    "    print('Not initialize on', cpu())"
   ]
  },
  {
   "cell_type": "code",
   "execution_count": null,
   "metadata": {},
   "outputs": [],
   "source": [
    "from mxnet import gluon\n",
    "from mxnet import autograd as ag\n",
    "from time import time\n",
    "from mxnet import init\n",
    "\n",
    "def train(num_gpus, batch_size, lr):\n",
    "    train_data, test_data = utils.load_data_fashion_mnist(batch_size)\n",
    "    \n",
    "    if num_gpus == 1:\n",
    "        ctx = [gpu(0)]\n",
    "    elif num_gpus == 2:\n",
    "        ctx = [gpu(0), cpu(0)]\n",
    "    else:\n",
    "        return 0\n",
    "#     ctx = [gpu(i) for i in range(num_gpus)]\n",
    "    print('Running on', ctx)\n",
    "    \n",
    "    net = utils.resnet18(10)\n",
    "#     net.initialize(init = init.Xavier(), ctx = ctx)\n",
    "    net.initialize(init = init.Normal(sigma=0.01), ctx = ctx)\n",
    "    loss = gluon.loss.SoftmaxCrossEntropyLoss()\n",
    "    trainer = gluon.Trainer(net.collect_params(),\n",
    "                            'sgd', {'learning_rate': lr})\n",
    "    \n",
    "    for epoch in range(5):\n",
    "        start = time()\n",
    "        total_loss = 0\n",
    "        for data, label in train_data:\n",
    "            data_list = gluon.utils.split_and_load(data, ctx)\n",
    "            label_list = gluon.utils.split_and_load(label, ctx)\n",
    "            with ag.record():\n",
    "                losses = [loss(net(X), y) for X, y in zip(\n",
    "                    data_list, label_list)]\n",
    "            for l in losses:\n",
    "                l.backward()\n",
    "            total_loss += sum([l.sum().asscalar() for l in losses])\n",
    "            trainer.step(batch_size)\n",
    "        \n",
    "        nd.waitall()\n",
    "        print('Epoch %d, training time %.1f sec' % (epoch, time() - start))\n",
    "    \n",
    "        test_acc = utils.evaluate_accuracy(test_data, net, ctx[0])\n",
    "        print('     validation accuracy = %.4f' % (test_acc))"
   ]
  },
  {
   "cell_type": "code",
   "execution_count": null,
   "metadata": {},
   "outputs": [],
   "source": [
    "train(1, 256, .1)"
   ]
  },
  {
   "cell_type": "code",
   "execution_count": null,
   "metadata": {},
   "outputs": [],
   "source": [
    "train(2, 256, .1)"
   ]
  },
  {
   "cell_type": "code",
   "execution_count": null,
   "metadata": {},
   "outputs": [],
   "source": [
    "train(2, 512, .2)"
   ]
  },
  {
   "cell_type": "code",
   "execution_count": null,
   "metadata": {},
   "outputs": [],
   "source": [
    "!nvidia-smi"
   ]
  },
  {
   "cell_type": "code",
   "execution_count": null,
   "metadata": {
    "collapsed": true
   },
   "outputs": [],
   "source": []
  }
 ],
 "metadata": {
  "kernelspec": {
   "display_name": "Python 3",
   "language": "python",
   "name": "python3"
  },
  "language_info": {
   "codemirror_mode": {
    "name": "ipython",
    "version": 3
   },
   "file_extension": ".py",
   "mimetype": "text/x-python",
   "name": "python",
   "nbconvert_exporter": "python",
   "pygments_lexer": "ipython3",
   "version": "3.6.3"
  }
 },
 "nbformat": 4,
 "nbformat_minor": 2
}
