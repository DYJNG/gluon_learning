{
 "cells": [
  {
   "cell_type": "code",
   "execution_count": 1,
   "metadata": {},
   "outputs": [
    {
     "name": "stderr",
     "output_type": "stream",
     "text": [
      "/home/dyjng/anaconda3/lib/python3.6/site-packages/urllib3/contrib/pyopenssl.py:46: DeprecationWarning: OpenSSL.rand is deprecated - you should use os.urandom instead\n",
      "  import OpenSSL.SSL\n"
     ]
    }
   ],
   "source": [
    "from mxnet import nd\n",
    "\n",
    "def run(x):\n",
    "    '''push 10 matrix-matrix multiplications'''\n",
    "    return [nd.dot(x, x) for _ in range(10)]"
   ]
  },
  {
   "cell_type": "code",
   "execution_count": 2,
   "metadata": {},
   "outputs": [
    {
     "name": "stdout",
     "output_type": "stream",
     "text": [
      "[\n",
      "[[ 1.79686487  2.22643089  1.75674462  1.54033864  2.08394027]\n",
      " [ 2.00328493  2.04589343  1.89130509  1.66900647  2.16904092]\n",
      " [ 1.68980205  1.77155161  1.53186607  1.38046646  1.66792488]\n",
      " [ 1.43392777  1.42096269  1.33351874  0.91356158  1.33272886]\n",
      " [ 1.94987202  2.03908873  1.91708696  1.62656164  2.00725889]]\n",
      "<NDArray 5x5 @cpu(0)>, \n",
      "[[ 1.79686487  2.22643089  1.75674462  1.54033864  2.08394027]\n",
      " [ 2.00328493  2.04589343  1.89130509  1.66900647  2.16904092]\n",
      " [ 1.68980205  1.77155161  1.53186607  1.38046646  1.66792488]\n",
      " [ 1.43392777  1.42096269  1.33351874  0.91356158  1.33272886]\n",
      " [ 1.94987202  2.03908873  1.91708696  1.62656164  2.00725889]]\n",
      "<NDArray 5x5 @cpu(0)>, \n",
      "[[ 1.79686487  2.22643089  1.75674462  1.54033864  2.08394027]\n",
      " [ 2.00328493  2.04589343  1.89130509  1.66900647  2.16904092]\n",
      " [ 1.68980205  1.77155161  1.53186607  1.38046646  1.66792488]\n",
      " [ 1.43392777  1.42096269  1.33351874  0.91356158  1.33272886]\n",
      " [ 1.94987202  2.03908873  1.91708696  1.62656164  2.00725889]]\n",
      "<NDArray 5x5 @cpu(0)>, \n",
      "[[ 1.79686487  2.22643089  1.75674462  1.54033864  2.08394027]\n",
      " [ 2.00328493  2.04589343  1.89130509  1.66900647  2.16904092]\n",
      " [ 1.68980205  1.77155161  1.53186607  1.38046646  1.66792488]\n",
      " [ 1.43392777  1.42096269  1.33351874  0.91356158  1.33272886]\n",
      " [ 1.94987202  2.03908873  1.91708696  1.62656164  2.00725889]]\n",
      "<NDArray 5x5 @cpu(0)>, \n",
      "[[ 1.79686487  2.22643089  1.75674462  1.54033864  2.08394027]\n",
      " [ 2.00328493  2.04589343  1.89130509  1.66900647  2.16904092]\n",
      " [ 1.68980205  1.77155161  1.53186607  1.38046646  1.66792488]\n",
      " [ 1.43392777  1.42096269  1.33351874  0.91356158  1.33272886]\n",
      " [ 1.94987202  2.03908873  1.91708696  1.62656164  2.00725889]]\n",
      "<NDArray 5x5 @cpu(0)>, \n",
      "[[ 1.79686487  2.22643089  1.75674462  1.54033864  2.08394027]\n",
      " [ 2.00328493  2.04589343  1.89130509  1.66900647  2.16904092]\n",
      " [ 1.68980205  1.77155161  1.53186607  1.38046646  1.66792488]\n",
      " [ 1.43392777  1.42096269  1.33351874  0.91356158  1.33272886]\n",
      " [ 1.94987202  2.03908873  1.91708696  1.62656164  2.00725889]]\n",
      "<NDArray 5x5 @cpu(0)>, \n",
      "[[ 1.79686487  2.22643089  1.75674462  1.54033864  2.08394027]\n",
      " [ 2.00328493  2.04589343  1.89130509  1.66900647  2.16904092]\n",
      " [ 1.68980205  1.77155161  1.53186607  1.38046646  1.66792488]\n",
      " [ 1.43392777  1.42096269  1.33351874  0.91356158  1.33272886]\n",
      " [ 1.94987202  2.03908873  1.91708696  1.62656164  2.00725889]]\n",
      "<NDArray 5x5 @cpu(0)>, \n",
      "[[ 1.79686487  2.22643089  1.75674462  1.54033864  2.08394027]\n",
      " [ 2.00328493  2.04589343  1.89130509  1.66900647  2.16904092]\n",
      " [ 1.68980205  1.77155161  1.53186607  1.38046646  1.66792488]\n",
      " [ 1.43392777  1.42096269  1.33351874  0.91356158  1.33272886]\n",
      " [ 1.94987202  2.03908873  1.91708696  1.62656164  2.00725889]]\n",
      "<NDArray 5x5 @cpu(0)>, \n",
      "[[ 1.79686487  2.22643089  1.75674462  1.54033864  2.08394027]\n",
      " [ 2.00328493  2.04589343  1.89130509  1.66900647  2.16904092]\n",
      " [ 1.68980205  1.77155161  1.53186607  1.38046646  1.66792488]\n",
      " [ 1.43392777  1.42096269  1.33351874  0.91356158  1.33272886]\n",
      " [ 1.94987202  2.03908873  1.91708696  1.62656164  2.00725889]]\n",
      "<NDArray 5x5 @cpu(0)>, \n",
      "[[ 1.79686487  2.22643089  1.75674462  1.54033864  2.08394027]\n",
      " [ 2.00328493  2.04589343  1.89130509  1.66900647  2.16904092]\n",
      " [ 1.68980205  1.77155161  1.53186607  1.38046646  1.66792488]\n",
      " [ 1.43392777  1.42096269  1.33351874  0.91356158  1.33272886]\n",
      " [ 1.94987202  2.03908873  1.91708696  1.62656164  2.00725889]]\n",
      "<NDArray 5x5 @cpu(0)>]\n"
     ]
    }
   ],
   "source": [
    "x = nd.random.uniform(shape = (5, 5))\n",
    "print(run(x))   # 返回10个5x5的矩阵"
   ]
  },
  {
   "cell_type": "code",
   "execution_count": 3,
   "metadata": {},
   "outputs": [
    {
     "name": "stdout",
     "output_type": "stream",
     "text": [
      "Run on CPU: 1.438148 sec\n",
      "Run on GPU: 1.549060 sec\n"
     ]
    }
   ],
   "source": [
    "from mxnet import gpu\n",
    "from time import time\n",
    "\n",
    "x_cpu = nd.random.uniform(shape = (2000, 2000))\n",
    "x_gpu = nd.random.uniform(shape = (8000, 8000), ctx = gpu(0))\n",
    "nd.waitall()\n",
    "\n",
    "# warm up\n",
    "run(x_cpu)\n",
    "run(x_gpu)\n",
    "nd.waitall()\n",
    "\n",
    "start = time()\n",
    "run(x_cpu)\n",
    "nd.waitall()\n",
    "print('Run on CPU: %f sec' % (time() - start))\n",
    "\n",
    "start = time()\n",
    "run(x_gpu)\n",
    "nd.waitall()\n",
    "print('Run on GPU: %f sec' % (time() - start))"
   ]
  },
  {
   "cell_type": "code",
   "execution_count": 4,
   "metadata": {},
   "outputs": [
    {
     "name": "stdout",
     "output_type": "stream",
     "text": [
      "Run on both CPU and GPU: 1.550102 sec\n"
     ]
    }
   ],
   "source": [
    "start = time()\n",
    "run(x_cpu)\n",
    "run(x_gpu)\n",
    "nd.waitall()\n",
    "print('Run on both CPU and GPU: %f sec' % (time() - start))"
   ]
  },
  {
   "cell_type": "code",
   "execution_count": 5,
   "metadata": {},
   "outputs": [
    {
     "name": "stdout",
     "output_type": "stream",
     "text": [
      "Run on GPU: 1.546970 sec\n",
      "Copy to CPU: 0.689381 sec\n"
     ]
    }
   ],
   "source": [
    "from mxnet import cpu\n",
    "\n",
    "def copy_to_cpu(x):\n",
    "    '''copy data to a device'''\n",
    "    return [y.copyto(cpu()) for y in x]\n",
    "\n",
    "start = time()\n",
    "y = run(x_gpu)\n",
    "nd.waitall()\n",
    "print('Run on GPU: %f sec' % (time() - start))\n",
    "\n",
    "start = time()\n",
    "copy_to_cpu(y)\n",
    "nd.waitall()\n",
    "print('Copy to CPU: %f sec' % (time() - start))"
   ]
  },
  {
   "cell_type": "code",
   "execution_count": 6,
   "metadata": {},
   "outputs": [
    {
     "name": "stdout",
     "output_type": "stream",
     "text": [
      "Run on GPU then Copy to CPU: 1.613548 sec\n"
     ]
    }
   ],
   "source": [
    "start = time()\n",
    "y = run(x_gpu)\n",
    "copy_to_cpu(y)\n",
    "nd.waitall()\n",
    "t = time() - start\n",
    "print('Run on GPU then Copy to CPU: %f sec' % (time() - start))"
   ]
  },
  {
   "cell_type": "code",
   "execution_count": null,
   "metadata": {
    "collapsed": true
   },
   "outputs": [],
   "source": []
  }
 ],
 "metadata": {
  "kernelspec": {
   "display_name": "Python 3",
   "language": "python",
   "name": "python3"
  },
  "language_info": {
   "codemirror_mode": {
    "name": "ipython",
    "version": 3
   },
   "file_extension": ".py",
   "mimetype": "text/x-python",
   "name": "python",
   "nbconvert_exporter": "python",
   "pygments_lexer": "ipython3",
   "version": "3.6.3"
  }
 },
 "nbformat": 4,
 "nbformat_minor": 2
}
