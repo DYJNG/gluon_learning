{
 "cells": [
  {
   "cell_type": "code",
   "execution_count": 1,
   "metadata": {},
   "outputs": [
    {
     "name": "stderr",
     "output_type": "stream",
     "text": [
      "/home/dyjng/anaconda3/lib/python3.6/site-packages/urllib3/contrib/pyopenssl.py:46: DeprecationWarning: OpenSSL.rand is deprecated - you should use os.urandom instead\n",
      "  import OpenSSL.SSL\n"
     ]
    }
   ],
   "source": [
    "from mxnet import nd\n",
    "def pure_batch_norm(X, gamma, beta, eps = 1e-5):\n",
    "    assert len(X.shape) in (2, 4)\n",
    "    # if dense layer (batch_size x feature)\n",
    "    if len(X.shape) == 2:\n",
    "        # EX and DX in every input dimension\n",
    "        mean = X.mean(axis = 0)\n",
    "        variance = ((X - mean) ** 2).mean(axis = 0)\n",
    "    # if conv layer (batch_size x channel x height x width)\n",
    "    else:\n",
    "        # EX and DX in every channels\n",
    "        mean = X.mean(axis = (0, 2, 3), keepdims = True)\n",
    "        variance = ((X - mean) ** 2).mean(axis = (0, 2, 3), keepdims = True)\n",
    "        \n",
    "    print('mean: ', mean, '\\nvariance: ', variance, '\\nmean shape: ', mean.shape, '\\nvariance shape', variance.shape)\n",
    "    # normalize\n",
    "    X_hat = (X - mean) / nd.sqrt(variance + eps)\n",
    "    # \n",
    "    return gamma.reshape(mean.shape) * X_hat + beta.reshape(mean.shape)"
   ]
  },
  {
   "cell_type": "code",
   "execution_count": 2,
   "metadata": {},
   "outputs": [
    {
     "data": {
      "text/plain": [
       "\n",
       "[[ 0.  1.]\n",
       " [ 2.  3.]\n",
       " [ 4.  5.]]\n",
       "<NDArray 3x2 @cpu(0)>"
      ]
     },
     "execution_count": 2,
     "metadata": {},
     "output_type": "execute_result"
    }
   ],
   "source": [
    "A = nd.arange(6).reshape((3, 2))\n",
    "A"
   ]
  },
  {
   "cell_type": "code",
   "execution_count": 3,
   "metadata": {},
   "outputs": [
    {
     "name": "stdout",
     "output_type": "stream",
     "text": [
      "mean:  \n",
      "[ 2.  3.]\n",
      "<NDArray 2 @cpu(0)> \n",
      "variance:  \n",
      "[ 2.66666675  2.66666675]\n",
      "<NDArray 2 @cpu(0)> \n",
      "mean shape:  (2,) \n",
      "variance shape (2,)\n"
     ]
    },
    {
     "data": {
      "text/plain": [
       "\n",
       "[[-1.22474265 -1.22474265]\n",
       " [ 0.          0.        ]\n",
       " [ 1.22474265  1.22474265]]\n",
       "<NDArray 3x2 @cpu(0)>"
      ]
     },
     "execution_count": 3,
     "metadata": {},
     "output_type": "execute_result"
    }
   ],
   "source": [
    "pure_batch_norm(A, gamma = nd.array([1, 1]), beta = nd.array([0, 0]))"
   ]
  },
  {
   "cell_type": "code",
   "execution_count": 4,
   "metadata": {},
   "outputs": [
    {
     "name": "stdout",
     "output_type": "stream",
     "text": [
      "mean:  \n",
      "[ 2.  3.]\n",
      "<NDArray 2 @cpu(0)> \n",
      "variance:  \n",
      "[ 2.66666675  2.66666675]\n",
      "<NDArray 2 @cpu(0)> \n",
      "mean shape:  (2,) \n",
      "variance shape (2,)\n"
     ]
    },
    {
     "data": {
      "text/plain": [
       "\n",
       "[[  3.57627869e-06   1.00000358e+00]\n",
       " [  2.00000000e+00   3.00000000e+00]\n",
       " [  3.99999642e+00   4.99999619e+00]]\n",
       "<NDArray 3x2 @cpu(0)>"
      ]
     },
     "execution_count": 4,
     "metadata": {},
     "output_type": "execute_result"
    }
   ],
   "source": [
    "restore = pure_batch_norm(A, gamma = nd.sqrt(nd.array([2.66666675, 2.66666675])), beta = nd.array([2, 3]))\n",
    "restore"
   ]
  },
  {
   "cell_type": "code",
   "execution_count": 5,
   "metadata": {},
   "outputs": [
    {
     "data": {
      "text/plain": [
       "\n",
       "[[  3.   7.]\n",
       " [  5.  11.]\n",
       " [  7.  15.]]\n",
       "<NDArray 3x2 @cpu(0)>"
      ]
     },
     "execution_count": 5,
     "metadata": {},
     "output_type": "execute_result"
    }
   ],
   "source": [
    "nd.array([1, 2]) * nd.array([[1, 2],[3, 4], [5, 6]]) + nd.array([2, 3])"
   ]
  },
  {
   "cell_type": "code",
   "execution_count": 6,
   "metadata": {},
   "outputs": [
    {
     "data": {
      "text/plain": [
       "\n",
       "[[[[  0.   1.   2.]\n",
       "   [  3.   4.   5.]\n",
       "   [  6.   7.   8.]]\n",
       "\n",
       "  [[  9.  10.  11.]\n",
       "   [ 12.  13.  14.]\n",
       "   [ 15.  16.  17.]]\n",
       "\n",
       "  [[ 18.  19.  20.]\n",
       "   [ 21.  22.  23.]\n",
       "   [ 24.  25.  26.]]]\n",
       "\n",
       "\n",
       " [[[ 27.  28.  29.]\n",
       "   [ 30.  31.  32.]\n",
       "   [ 33.  34.  35.]]\n",
       "\n",
       "  [[ 36.  37.  38.]\n",
       "   [ 39.  40.  41.]\n",
       "   [ 42.  43.  44.]]\n",
       "\n",
       "  [[ 45.  46.  47.]\n",
       "   [ 48.  49.  50.]\n",
       "   [ 51.  52.  53.]]]]\n",
       "<NDArray 2x3x3x3 @cpu(0)>"
      ]
     },
     "execution_count": 6,
     "metadata": {},
     "output_type": "execute_result"
    }
   ],
   "source": [
    "B = nd.arange(54).reshape((2, 3, 3, 3))\n",
    "B"
   ]
  },
  {
   "cell_type": "code",
   "execution_count": 7,
   "metadata": {},
   "outputs": [
    {
     "name": "stdout",
     "output_type": "stream",
     "text": [
      "mean:  \n",
      "[[[[ 17.5]]\n",
      "\n",
      "  [[ 26.5]]\n",
      "\n",
      "  [[ 35.5]]]]\n",
      "<NDArray 1x3x1x1 @cpu(0)> \n",
      "variance:  \n",
      "[[[[ 188.91667175]]\n",
      "\n",
      "  [[ 188.91667175]]\n",
      "\n",
      "  [[ 188.91667175]]]]\n",
      "<NDArray 1x3x1x1 @cpu(0)> \n",
      "mean shape:  (1, 3, 1, 1) \n",
      "variance shape (1, 3, 1, 1)\n"
     ]
    },
    {
     "data": {
      "text/plain": [
       "\n",
       "[[[[-1.27321839 -1.20046306 -1.12770772]\n",
       "   [-1.05495238 -0.98219699 -0.90944171]\n",
       "   [-0.83668637 -0.76393104 -0.6911757 ]]\n",
       "\n",
       "  [[-1.27321839 -1.20046306 -1.12770772]\n",
       "   [-1.05495238 -0.98219699 -0.90944171]\n",
       "   [-0.83668637 -0.76393104 -0.6911757 ]]\n",
       "\n",
       "  [[-1.27321839 -1.20046306 -1.12770772]\n",
       "   [-1.05495238 -0.98219699 -0.90944171]\n",
       "   [-0.83668637 -0.76393104 -0.6911757 ]]]\n",
       "\n",
       "\n",
       " [[[ 0.6911757   0.76393104  0.83668637]\n",
       "   [ 0.90944171  0.98219699  1.05495238]\n",
       "   [ 1.12770772  1.20046306  1.27321839]]\n",
       "\n",
       "  [[ 0.6911757   0.76393104  0.83668637]\n",
       "   [ 0.90944171  0.98219699  1.05495238]\n",
       "   [ 1.12770772  1.20046306  1.27321839]]\n",
       "\n",
       "  [[ 0.6911757   0.76393104  0.83668637]\n",
       "   [ 0.90944171  0.98219699  1.05495238]\n",
       "   [ 1.12770772  1.20046306  1.27321839]]]]\n",
       "<NDArray 2x3x3x3 @cpu(0)>"
      ]
     },
     "execution_count": 7,
     "metadata": {},
     "output_type": "execute_result"
    }
   ],
   "source": [
    "pure_batch_norm(B, gamma = nd.array([1, 1, 1]), beta = nd.array([0, 0, 0]))"
   ]
  },
  {
   "cell_type": "code",
   "execution_count": 8,
   "metadata": {
    "collapsed": true
   },
   "outputs": [],
   "source": [
    "def batch_norm(X, gamma, beta, is_training, moving_mean, moving_variance, \n",
    "               eps = 1e-5, moving_momentum = 0.9):\n",
    "    assert len(X.shape) in (2, 4)\n",
    "    if len(X.shape) == 2:\n",
    "        mean = X.mean(axis = 0)\n",
    "        variance = ((X - mean) ** 2).mean(axis = 0)\n",
    "    else:\n",
    "        mean = X.mean(axis = (0, 2, 3), keepdims = True)\n",
    "        variance = ((X - mean) ** 2).mean(axis = (0, 2, 3),keepdims = True)\n",
    "    # transform in order to broadcast correct\n",
    "    moving_mean = moving_mean.reshape(mean.shape)\n",
    "    moving_variance = moving_variance.reshape(mean.shape)\n",
    "        \n",
    "    if is_training:\n",
    "        X_hat = (X - mean) / nd.sqrt(variance + eps)\n",
    "        # update global EX and DX\n",
    "        moving_mean[:] = moving_momentum * moving_mean + (1.0 - moving_momentum) * mean\n",
    "        moving_variance[:] = moving_momentum * moving_variance + (1.0 - moving_momentum) * variance\n",
    "    else:\n",
    "        X_hat = (X - moving_mean) / nd.sqrt(moving_variance + eps)\n",
    "        \n",
    "    return gamma.reshape(mean.shape) * X_hat + beta.reshape(mean.shape)"
   ]
  },
  {
   "cell_type": "code",
   "execution_count": 9,
   "metadata": {},
   "outputs": [
    {
     "data": {
      "text/plain": [
       "gpu(0)"
      ]
     },
     "execution_count": 9,
     "metadata": {},
     "output_type": "execute_result"
    }
   ],
   "source": [
    "import sys\n",
    "sys.path.append('..')\n",
    "import utils\n",
    "ctx = utils.try_gpu()\n",
    "ctx"
   ]
  },
  {
   "cell_type": "code",
   "execution_count": 10,
   "metadata": {
    "collapsed": true
   },
   "outputs": [],
   "source": [
    "weight_scale = .01\n",
    "\n",
    "# output channels = 20, kernel = (5, 5)\n",
    "c1 = 20\n",
    "w1 = nd.random.normal(shape = (c1, 1, 5, 5), scale = weight_scale, ctx = ctx)\n",
    "b1 = nd.zeros(c1, ctx = ctx)\n",
    "\n",
    "# batch_norm 1\n",
    "gamma1 = nd.random.normal(shape = c1, scale = weight_scale, ctx = ctx)\n",
    "beta1 = nd.random.normal(shape = c1, scale = weight_scale, ctx = ctx)\n",
    "moving_mean1 = nd.zeros(c1, ctx = ctx)\n",
    "moving_variance1 = nd.zeros(c1, ctx = ctx)\n",
    "\n",
    "# output channels = 50, kernel = (3, 3)\n",
    "c2 = 50\n",
    "w2 = nd.random.normal(shape = (c2, c1, 3, 3), scale = weight_scale, ctx = ctx)\n",
    "b2 = nd.zeros(shape = c2, ctx = ctx)\n",
    "\n",
    "# batch_norm 2\n",
    "gamma2 = nd.random.normal(shape = c2, scale = weight_scale, ctx = ctx)\n",
    "beta2 = nd.random.normal(shape = c2, scale = weight_scale, ctx = ctx)\n",
    "moving_mean2 = nd.zeros(c2, ctx =ctx)\n",
    "moving_variance2 = nd.zeros(c2, ctx = ctx)\n",
    "\n",
    "# output dims = 128\n",
    "o3 = 128\n",
    "w3 = nd.random.normal(shape = (1250, o3), scale = weight_scale, ctx = ctx)\n",
    "b3 = nd.zeros(o3, ctx = ctx)\n",
    "\n",
    "# output dims = 10\n",
    "o4 = 10\n",
    "w4 = nd.random.normal(shape = (o3, o4), scale = weight_scale, ctx = ctx)\n",
    "b4 = nd.zeros(o4, ctx = ctx)\n",
    "\n",
    "# note: the moving_* need not to update\n",
    "params = [w1, b1, gamma1, beta1, \n",
    "         w2, b2, gamma2, beta2, \n",
    "         w3, b3, w4, b4]\n",
    "\n",
    "for param in params:\n",
    "    param.attach_grad()"
   ]
  },
  {
   "cell_type": "code",
   "execution_count": 11,
   "metadata": {
    "collapsed": true
   },
   "outputs": [],
   "source": [
    "def net(X, is_training = False, verbose = False):\n",
    "    X = X.as_in_context(w1.context)\n",
    "    # 1st conv\n",
    "    h1_conv = nd.Convolution(\n",
    "        data = X, weight = w1, bias = b1, kernel = w1.shape[2:], num_filter = c1)\n",
    "    # add batch_norm\n",
    "    h1_bn = batch_norm(h1_conv, gamma1, beta1, is_training, \n",
    "                       moving_mean1, moving_variance1)\n",
    "    h1_activation = nd.relu(h1_bn)\n",
    "    h1 = nd.Pooling(data = h1_activation, pool_type = 'max', \n",
    "                    kernel = (2, 2), stride = (2, 2))\n",
    "    # 2nd conv\n",
    "    h2_conv = nd.Convolution(\n",
    "        data = h1, weight = w2, bias = b2, kernel = w2.shape[2:], num_filter = c2)\n",
    "    h2_bn = batch_norm(h2_conv, gamma2, beta2, is_training, \n",
    "                       moving_mean2, moving_variance2)\n",
    "    h2_activation = nd.relu(h2_bn)\n",
    "    h2 = nd.Pooling(data = h2_activation, pool_type = 'max', \n",
    "                    kernel = (2, 2), stride = (2, 2))\n",
    "    h2_flat = nd.flatten(h2)\n",
    "    # 1st dense\n",
    "    h3_linear = nd.dot(h2_flat, w3) + b3\n",
    "    h3 = nd.relu(h3_linear)\n",
    "    # 2nd dense\n",
    "    h4_linear = nd.dot(h3, w4) + b4\n",
    "    if verbose:\n",
    "        print('1st conv block:', h1.shape)\n",
    "        print('2nd conv block:', h2.shape)\n",
    "        print('1st dense:', h3.shape)\n",
    "        print('2nd dense:', h4_linear.shape)\n",
    "        print('output:', h4_linear)\n",
    "    return h4_linear"
   ]
  },
  {
   "cell_type": "code",
   "execution_count": 12,
   "metadata": {
    "scrolled": true
   },
   "outputs": [
    {
     "name": "stdout",
     "output_type": "stream",
     "text": [
      "Epoch 0, Loss: 2.070894, Train acc 0.222990, Test acc 0.625501\n",
      "Epoch 1, Loss: 0.586744, Train acc 0.773371, Test acc 0.814303\n",
      "Epoch 2, Loss: 0.419263, Train acc 0.842231, Test acc 0.865184\n",
      "Epoch 3, Loss: 0.357987, Train acc 0.866536, Test acc 0.869992\n",
      "Epoch 4, Loss: 0.325181, Train acc 0.878506, Test acc 0.887220\n"
     ]
    }
   ],
   "source": [
    "from mxnet import autograd as ag\n",
    "from mxnet import gluon\n",
    "\n",
    "batch_size = 256\n",
    "train_data, test_data = utils.load_data_fashion_mnist(batch_size)\n",
    "\n",
    "softmax_cross_entropy = gluon.loss.SoftmaxCrossEntropyLoss()\n",
    "\n",
    "learning_rate = 0.2\n",
    "\n",
    "for epoch in range(5):\n",
    "    train_loss = 0.\n",
    "    train_acc = 0.\n",
    "    for data, label in train_data:\n",
    "        label = label.as_in_context(ctx)\n",
    "        with ag.record():\n",
    "            output = net(data, is_training = True, verbose = False)\n",
    "            loss = softmax_cross_entropy(output, label)\n",
    "        loss.backward()\n",
    "        utils.SGD(params, learning_rate / batch_size)\n",
    "        \n",
    "        train_loss += nd.mean(loss).asscalar()\n",
    "        train_acc += utils.accuracy(output, label)\n",
    "    \n",
    "    test_acc = utils.evaluate_accuracy(test_data, net, ctx)\n",
    "    print('Epoch %d, Loss: %f, Train acc %f, Test acc %f' % (\n",
    "            epoch, train_loss / len(train_data), train_acc / len(train_data), test_acc))"
   ]
  },
  {
   "cell_type": "code",
   "execution_count": 13,
   "metadata": {},
   "outputs": [
    {
     "name": "stdout",
     "output_type": "stream",
     "text": [
      "\n",
      "[  1.38687454e-02  -5.99591732e-01  -2.79458463e-01  -2.35398367e-01\n",
      "   4.75273356e-02   6.03083931e-02  -1.18171982e-02   1.72615852e-02\n",
      "   3.60988233e-05   1.10024847e-02   8.05155188e-02   1.93556115e-01\n",
      "  -4.80096880e-03  -1.68642491e-01   1.85707323e-02   9.81035650e-01\n",
      "   2.23618627e+00   5.15063852e-03  -6.44020140e-02  -2.01391190e-01]\n",
      "<NDArray 20 @gpu(0)>\n"
     ]
    }
   ],
   "source": [
    "print(moving_mean1)"
   ]
  },
  {
   "cell_type": "code",
   "execution_count": null,
   "metadata": {
    "collapsed": true
   },
   "outputs": [],
   "source": []
  }
 ],
 "metadata": {
  "kernelspec": {
   "display_name": "Python 3",
   "language": "python",
   "name": "python3"
  },
  "language_info": {
   "codemirror_mode": {
    "name": "ipython",
    "version": 3
   },
   "file_extension": ".py",
   "mimetype": "text/x-python",
   "name": "python",
   "nbconvert_exporter": "python",
   "pygments_lexer": "ipython3",
   "version": "3.6.3"
  }
 },
 "nbformat": 4,
 "nbformat_minor": 2
}
