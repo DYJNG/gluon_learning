{
 "cells": [
  {
   "cell_type": "code",
   "execution_count": 1,
   "metadata": {},
   "outputs": [
    {
     "name": "stderr",
     "output_type": "stream",
     "text": [
      "/home/dyjng/anaconda3/lib/python3.6/site-packages/urllib3/contrib/pyopenssl.py:46: DeprecationWarning: OpenSSL.rand is deprecated - you should use os.urandom instead\n",
      "  import OpenSSL.SSL\n"
     ]
    }
   ],
   "source": [
    "from mxnet.gluon import  nn\n",
    "\n",
    "net = nn.Sequential()\n",
    "with net.name_scope():\n",
    "    net.add(\n",
    "        nn.Conv2D(channels = 20, kernel_size = 5, activation = 'relu'),\n",
    "        nn.MaxPool2D(pool_size = 2, strides = 2),\n",
    "        nn.Conv2D(channels = 50, kernel_size = 3, activation = 'relu'),\n",
    "        nn.MaxPool2D(pool_size = 2, strides = 2),\n",
    "        nn.Flatten(),\n",
    "        nn.Dense(128, activation = 'relu'),\n",
    "        nn.Dense(10)\n",
    "    )"
   ]
  },
  {
   "cell_type": "code",
   "execution_count": 2,
   "metadata": {},
   "outputs": [
    {
     "name": "stdout",
     "output_type": "stream",
     "text": [
      "initialize weight on gpu(0)\n",
      "Start training on  gpu(0)\n",
      "Epoch 0. Loss: 1.239, Train acc 0.54, Test acc 0.78, Time 1.6 sec\n",
      "Epoch 1. Loss: 0.510, Train acc 0.80, Test acc 0.82, Time 1.5 sec\n",
      "Epoch 2. Loss: 0.424, Train acc 0.84, Test acc 0.86, Time 1.5 sec\n",
      "Epoch 3. Loss: 0.368, Train acc 0.86, Test acc 0.88, Time 1.4 sec\n",
      "Epoch 4. Loss: 0.332, Train acc 0.88, Test acc 0.89, Time 1.5 sec\n"
     ]
    }
   ],
   "source": [
    "from mxnet import gluon\n",
    "import sys\n",
    "sys.path.append('..')\n",
    "import utils\n",
    "# initialize \n",
    "ctx = utils.try_gpu()\n",
    "net.initialize(ctx = ctx)\n",
    "print('initialize weight on', ctx)\n",
    "\n",
    "# load data\n",
    "batch_size = 256\n",
    "train_data, test_data = utils.load_data_fashion_mnist(batch_size)\n",
    "\n",
    "#training\n",
    "loss = gluon.loss.SoftmaxCrossEntropyLoss()\n",
    "trainer = gluon.Trainer(net.collect_params(),\n",
    "                       'sgd', {'learning_rate': 0.5})\n",
    "utils.train(train_data, test_data, net, loss, trainer, ctx, num_epochs = 5)"
   ]
  },
  {
   "cell_type": "code",
   "execution_count": 1,
   "metadata": {},
   "outputs": [
    {
     "name": "stdout",
     "output_type": "stream",
     "text": [
      "Fri May 25 00:43:06 2018       \r\n",
      "+-----------------------------------------------------------------------------+\r\n",
      "| NVIDIA-SMI 384.130                Driver Version: 384.130                   |\r\n",
      "|-------------------------------+----------------------+----------------------+\r\n",
      "| GPU  Name        Persistence-M| Bus-Id        Disp.A | Volatile Uncorr. ECC |\r\n",
      "| Fan  Temp  Perf  Pwr:Usage/Cap|         Memory-Usage | GPU-Util  Compute M. |\r\n",
      "|===============================+======================+======================|\r\n",
      "|   0  GeForce GTX 108...  Off  | 00000000:29:00.0  On |                  N/A |\r\n",
      "| 24%   63C    P2   207W / 280W |  10582MiB / 11169MiB |     58%      Default |\r\n",
      "+-------------------------------+----------------------+----------------------+\r\n",
      "                                                                               \r\n",
      "+-----------------------------------------------------------------------------+\r\n",
      "| Processes:                                                       GPU Memory |\r\n",
      "|  GPU       PID   Type   Process name                             Usage      |\r\n",
      "|=============================================================================|\r\n",
      "|    0      1340      G   /usr/lib/xorg/Xorg                           195MiB |\r\n",
      "|    0      2239      G   compiz                                       138MiB |\r\n",
      "|    0      7096      C   /home/dyjng/anaconda3/bin/python            1581MiB |\r\n",
      "|    0      7135      C   /home/dyjng/anaconda3/bin/python            2877MiB |\r\n",
      "|    0     12826      C   /home/dyjng/anaconda3/bin/python            3789MiB |\r\n",
      "|    0     12894      C   /home/dyjng/anaconda3/bin/python            1989MiB |\r\n",
      "+-----------------------------------------------------------------------------+\r\n"
     ]
    }
   ],
   "source": [
    "!nvidia-smi"
   ]
  },
  {
   "cell_type": "code",
   "execution_count": null,
   "metadata": {
    "collapsed": true
   },
   "outputs": [],
   "source": []
  }
 ],
 "metadata": {
  "kernelspec": {
   "display_name": "Python 3",
   "language": "python",
   "name": "python3"
  },
  "language_info": {
   "codemirror_mode": {
    "name": "ipython",
    "version": 3
   },
   "file_extension": ".py",
   "mimetype": "text/x-python",
   "name": "python",
   "nbconvert_exporter": "python",
   "pygments_lexer": "ipython3",
   "version": "3.6.3"
  }
 },
 "nbformat": 4,
 "nbformat_minor": 2
}
