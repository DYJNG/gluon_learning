{
 "cells": [
  {
   "cell_type": "code",
   "execution_count": 1,
   "metadata": {},
   "outputs": [
    {
     "name": "stderr",
     "output_type": "stream",
     "text": [
      "/home/dyjng/anaconda3/lib/python3.6/site-packages/urllib3/contrib/pyopenssl.py:46: DeprecationWarning: OpenSSL.rand is deprecated - you should use os.urandom instead\n",
      "  import OpenSSL.SSL\n"
     ]
    }
   ],
   "source": [
    "from mxnet.gluon import nn\n",
    "from mxnet import nd\n",
    "\n",
    "class Inception(nn.Block):\n",
    "    def __init__(self, n1_1, n2_1, n2_3, n3_1, n3_5, n4_1, **kwargs):\n",
    "        super(Inception, self).__init__(**kwargs)\n",
    "        # path 1\n",
    "        self.p1_conv_1 = nn.Conv2D(n1_1, kernel_size = 1, activation = 'relu')\n",
    "        # path 2\n",
    "        self.p2_conv_1 = nn.Conv2D(n2_1, kernel_size = 1, activation = 'relu')\n",
    "        self.p2_conv_3 = nn.Conv2D(n2_3, kernel_size = 3, padding = 1, activation = 'relu')\n",
    "        # path 3\n",
    "        self.p3_conv_1 = nn.Conv2D(n3_1, kernel_size = 1, activation = 'relu')\n",
    "        self.p3_conv_5 = nn.Conv2D(n3_5, kernel_size = 5, padding = 2, activation = 'relu')\n",
    "        # path 4\n",
    "        self.p4_pool_3 = nn.MaxPool2D(pool_size = 3, padding = 1, strides = 1)\n",
    "        self.p4_conv_1 = nn.Conv2D(n4_1, kernel_size = 1, activation = 'relu')\n",
    "    \n",
    "    def forward(self, x):\n",
    "        p1 = self.p1_conv_1(x)\n",
    "        p2 = self.p2_conv_3(self.p2_conv_1(x))\n",
    "        p3 = self.p3_conv_5(self.p3_conv_1(x))\n",
    "        p4 = self.p4_conv_1(self.p4_pool_3(x))\n",
    "        return nd.concat(p1, p2, p3, p4, dim = 1)"
   ]
  },
  {
   "cell_type": "code",
   "execution_count": 2,
   "metadata": {},
   "outputs": [
    {
     "data": {
      "text/plain": [
       "(32, 256, 64, 64)"
      ]
     },
     "execution_count": 2,
     "metadata": {},
     "output_type": "execute_result"
    }
   ],
   "source": [
    "incp = Inception(64, 96, 128, 16, 32, 32)\n",
    "incp.initialize()\n",
    "\n",
    "x = nd.random.uniform(shape = (32, 3, 64, 64))\n",
    "incp(x).shape"
   ]
  },
  {
   "cell_type": "code",
   "execution_count": 3,
   "metadata": {
    "collapsed": true
   },
   "outputs": [],
   "source": [
    "class GoogLeNet(nn.Block):\n",
    "    def __init__(self, num_classes, verbose = False, **kwargs):\n",
    "        super(GoogLeNet, self).__init__(**kwargs)\n",
    "        self.verbose = verbose\n",
    "        # add name_scope on the outer most Sequential\n",
    "        with self.name_scope():\n",
    "            # block 1\n",
    "            b1 = nn.Sequential()\n",
    "            b1.add(\n",
    "                nn.Conv2D(64, kernel_size = 7, strides = 2, \n",
    "                          padding = 3, activation = 'relu'), \n",
    "                nn.MaxPool2D(pool_size = 3, strides = 2)\n",
    "            )\n",
    "            # block 2\n",
    "            b2 = nn.Sequential()\n",
    "            b2.add(\n",
    "                nn.Conv2D(64, kernel_size = 1),\n",
    "                nn.Conv2D(192, kernel_size = 3, padding = 1), \n",
    "                nn.MaxPool2D(pool_size = 3, strides = 2)\n",
    "            )\n",
    "            \n",
    "            # block 3\n",
    "            b3 = nn.Sequential()\n",
    "            b3.add(\n",
    "                Inception(64, 96, 128, 16, 32, 32), \n",
    "                Inception(128, 128, 192, 32, 96, 64), \n",
    "                nn.MaxPool2D(pool_size = 3, strides = 2)\n",
    "            )\n",
    "            \n",
    "            # block 4\n",
    "            b4 = nn.Sequential()\n",
    "            b4.add(\n",
    "                Inception(192, 96, 208, 16, 48, 64), \n",
    "                Inception(160, 112, 224, 24, 64, 64), \n",
    "                Inception(128, 128, 256, 24, 64, 64), \n",
    "                Inception(112, 144, 288, 32, 64, 64), \n",
    "                Inception(256, 160, 320, 32, 128, 128),\n",
    "                nn.MaxPool2D(pool_size = 3, strides = 2)\n",
    "            )\n",
    "            \n",
    "            # block 5\n",
    "            b5 = nn.Sequential()\n",
    "            b5.add(\n",
    "                Inception(256, 160, 320, 32, 128, 128), \n",
    "                Inception(384, 192, 384, 48, 128, 128),\n",
    "                nn.AvgPool2D(pool_size = 2)\n",
    "            )\n",
    "            \n",
    "            # block 6\n",
    "            b6 = nn.Sequential()\n",
    "            b6.add(\n",
    "                nn.Flatten(), \n",
    "                nn.Dense(num_classes)\n",
    "            )\n",
    "            # chain blocks together\n",
    "            self.net = nn.Sequential()\n",
    "            self.net.add(b1, b2, b3, b4, b5, b6)\n",
    "        \n",
    "    def forward(self, x):\n",
    "        out = x\n",
    "        for i, b in enumerate(self.net):\n",
    "            out = b(out)\n",
    "            if self.verbose:\n",
    "                print('Block %d output: %s' % (i + 1, out.shape))\n",
    "        return out"
   ]
  },
  {
   "cell_type": "code",
   "execution_count": 4,
   "metadata": {},
   "outputs": [
    {
     "name": "stdout",
     "output_type": "stream",
     "text": [
      "Block 1 output: (4, 64, 23, 23)\n",
      "Block 2 output: (4, 192, 11, 11)\n",
      "Block 3 output: (4, 480, 5, 5)\n",
      "Block 4 output: (4, 832, 2, 2)\n",
      "Block 5 output: (4, 1024, 1, 1)\n",
      "Block 6 output: (4, 10)\n"
     ]
    }
   ],
   "source": [
    "net = GoogLeNet(10, verbose = True)\n",
    "net.initialize()\n",
    "\n",
    "x = nd.random.uniform(shape = (4, 3, 96, 96))\n",
    "y = net(x)"
   ]
  },
  {
   "cell_type": "code",
   "execution_count": 5,
   "metadata": {},
   "outputs": [
    {
     "name": "stdout",
     "output_type": "stream",
     "text": [
      "Start training on  gpu(0)\n",
      "Epoch 0. Loss: 2.143, Train acc 0.29, Test acc 0.58, Time 45.8 sec\n",
      "Epoch 1. Loss: 0.757, Train acc 0.71, Test acc 0.76, Time 45.9 sec\n",
      "Epoch 2. Loss: 0.555, Train acc 0.79, Test acc 0.82, Time 45.9 sec\n",
      "Epoch 3. Loss: 0.469, Train acc 0.83, Test acc 0.84, Time 45.7 sec\n",
      "Epoch 4. Loss: 0.421, Train acc 0.84, Test acc 0.83, Time 45.7 sec\n"
     ]
    }
   ],
   "source": [
    "import sys\n",
    "sys.path.append('..')\n",
    "import utils\n",
    "from mxnet import gluon\n",
    "from mxnet import init\n",
    "\n",
    "train_data, test_data = utils.load_data_fashion_mnist(\n",
    "    batch_size = 64, resize = 96)\n",
    "\n",
    "ctx = utils.try_gpu()\n",
    "net = GoogLeNet(10)\n",
    "net.initialize(ctx = ctx, init = init.Xavier())\n",
    "\n",
    "loss = gluon.loss.SoftmaxCrossEntropyLoss()\n",
    "trainer = gluon.Trainer(net.collect_params(), \n",
    "                        'sgd', {'learning_rate': 0.01})\n",
    "utils.train(train_data, test_data, net, loss, \n",
    "            trainer, ctx, num_epochs = 5)"
   ]
  }
 ],
 "metadata": {
  "kernelspec": {
   "display_name": "Python 3",
   "language": "python",
   "name": "python3"
  },
  "language_info": {
   "codemirror_mode": {
    "name": "ipython",
    "version": 3
   },
   "file_extension": ".py",
   "mimetype": "text/x-python",
   "name": "python",
   "nbconvert_exporter": "python",
   "pygments_lexer": "ipython3",
   "version": "3.6.3"
  }
 },
 "nbformat": 4,
 "nbformat_minor": 2
}
