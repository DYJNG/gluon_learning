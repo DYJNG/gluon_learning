{
 "cells": [
  {
   "cell_type": "code",
   "execution_count": 1,
   "metadata": {},
   "outputs": [
    {
     "name": "stderr",
     "output_type": "stream",
     "text": [
      "/home/dyjng/anaconda3/lib/python3.6/site-packages/urllib3/contrib/pyopenssl.py:46: DeprecationWarning: OpenSSL.rand is deprecated - you should use os.urandom instead\n",
      "  import OpenSSL.SSL\n"
     ]
    }
   ],
   "source": [
    "from mxnet.gluon import nn\n",
    "\n",
    "net = nn.Sequential()\n",
    "with net.name_scope():\n",
    "    # 1st conv\n",
    "    net.add(nn.Conv2D(channels = 20, kernel_size = 5))\n",
    "    # add batch norm\n",
    "    net.add(nn.BatchNorm(axis = 1))\n",
    "    net.add(nn.Activation(activation = 'relu'))\n",
    "    net.add(nn.MaxPool2D(pool_size = 2, strides = 2))\n",
    "    # 2nd conv\n",
    "    net.add(nn.Conv2D(channels = 50, kernel_size = 3))\n",
    "    # add batch norm\n",
    "    net.add(nn.BatchNorm(axis = 1))\n",
    "    net.add(nn.Activation(activation = 'relu'))\n",
    "    net.add(nn.MaxPool2D(pool_size = 2, strides = 2))\n",
    "    net.add(nn.Flatten())\n",
    "    # 1st dense(Fully Connection(FC))\n",
    "    net.add(nn.Dense(128, activation = 'relu'))\n",
    "    # 2nd FC\n",
    "    net.add(nn.Dense(10))"
   ]
  },
  {
   "cell_type": "code",
   "execution_count": 2,
   "metadata": {},
   "outputs": [
    {
     "name": "stdout",
     "output_type": "stream",
     "text": [
      "Epoch 0, Loss: 0.597981, Train acc 0.779063, Test acc 0.839042\n",
      "Epoch 1, Loss: 0.357071, Train acc 0.868122, Test acc 0.874099\n",
      "Epoch 2, Loss: 0.308279, Train acc 0.886168, Test acc 0.895633\n",
      "Epoch 3, Loss: 0.280291, Train acc 0.894999, Test acc 0.899940\n",
      "Epoch 4, Loss: 0.256610, Train acc 0.904263, Test acc 0.886619\n"
     ]
    }
   ],
   "source": [
    "import sys\n",
    "sys.path.append('..')\n",
    "import utils\n",
    "from mxnet import autograd as ag\n",
    "from mxnet import gluon\n",
    "from mxnet import nd\n",
    "# from mxnet import init\n",
    "\n",
    "ctx = utils.try_gpu()\n",
    "net.initialize(ctx = ctx)\n",
    "\n",
    "batch_size = 256\n",
    "train_data, test_data = utils.load_data_fashion_mnist(batch_size)\n",
    "\n",
    "softmax_cross_entropy = gluon.loss.SoftmaxCrossEntropyLoss()\n",
    "trainer = gluon.Trainer(net.collect_params(), 'sgd', {'learning_rate': 0.2})\n",
    "\n",
    "for epoch in range(5):\n",
    "    train_loss = 0.\n",
    "    train_acc = 0.\n",
    "    for data, label in train_data:\n",
    "        label = label.as_in_context(ctx)\n",
    "        with ag.record():\n",
    "            output = net(data.as_in_context(ctx))\n",
    "            loss = softmax_cross_entropy(output, label)\n",
    "        loss.backward()\n",
    "        trainer.step(batch_size)\n",
    "        \n",
    "        train_loss += nd.mean(loss).asscalar()\n",
    "        train_acc += utils.accuracy(output, label)\n",
    "    \n",
    "    test_acc = utils.evaluate_accuracy(test_data, net, ctx)\n",
    "    print('Epoch %d, Loss: %f, Train acc %f, Test acc %f' % (\n",
    "            epoch, train_loss / len(train_data), train_acc / len(train_data), test_acc))"
   ]
  },
  {
   "cell_type": "code",
   "execution_count": null,
   "metadata": {
    "collapsed": true
   },
   "outputs": [],
   "source": []
  }
 ],
 "metadata": {
  "kernelspec": {
   "display_name": "Python 3",
   "language": "python",
   "name": "python3"
  },
  "language_info": {
   "codemirror_mode": {
    "name": "ipython",
    "version": 3
   },
   "file_extension": ".py",
   "mimetype": "text/x-python",
   "name": "python",
   "nbconvert_exporter": "python",
   "pygments_lexer": "ipython3",
   "version": "3.6.3"
  }
 },
 "nbformat": 4,
 "nbformat_minor": 2
}
