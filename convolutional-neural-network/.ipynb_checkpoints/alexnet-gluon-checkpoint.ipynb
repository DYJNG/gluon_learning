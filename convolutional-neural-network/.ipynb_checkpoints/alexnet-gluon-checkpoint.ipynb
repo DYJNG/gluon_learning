{
 "cells": [
  {
   "cell_type": "code",
   "execution_count": 1,
   "metadata": {},
   "outputs": [
    {
     "name": "stderr",
     "output_type": "stream",
     "text": [
      "/home/dyjng/anaconda3/lib/python3.6/site-packages/urllib3/contrib/pyopenssl.py:46: DeprecationWarning: OpenSSL.rand is deprecated - you should use os.urandom instead\n",
      "  import OpenSSL.SSL\n"
     ]
    }
   ],
   "source": [
    "from mxnet.gluon import nn\n",
    "\n",
    "net = nn.Sequential()\n",
    "with net.name_scope():\n",
    "    net.add(\n",
    "        # stage 1:\n",
    "        nn.Conv2D(channels = 96, kernel_size = 11, \n",
    "                 strides = 4, activation = 'relu'), \n",
    "        nn.MaxPool2D(pool_size = 3, strides = 2), \n",
    "        # stage 2:\n",
    "        nn.Conv2D(channels = 256, kernel_size = 5, \n",
    "                padding = 2, activation = 'relu'), \n",
    "        nn.MaxPool2D(pool_size = 3, strides = 2), \n",
    "        # stage 3:\n",
    "        nn.Conv2D(channels = 384, kernel_size = 3,\n",
    "                 padding = 1, activation = 'relu'), \n",
    "        nn.Conv2D(channels = 384, kernel_size = 3, \n",
    "                 padding = 1, activation = 'relu'), \n",
    "        nn.Conv2D(channels = 256, kernel_size = 3, \n",
    "                 padding = 1, activation = 'relu'), \n",
    "        nn.MaxPool2D(pool_size = 3, strides = 2), \n",
    "        # stage 4:\n",
    "        nn.Flatten(),\n",
    "        nn.Dense(4096, activation = 'relu'), \n",
    "        nn.Dropout(.5), \n",
    "        # stage 5:\n",
    "        nn.Dense(4096, activation = 'relu'), \n",
    "        nn.Dropout(.5), \n",
    "        # stage 6:\n",
    "        nn.Dense(10)\n",
    "    )"
   ]
  },
  {
   "cell_type": "code",
   "execution_count": 2,
   "metadata": {
    "collapsed": true
   },
   "outputs": [],
   "source": [
    "import sys\n",
    "sys.path.append('..')\n",
    "import utils\n",
    "\n",
    "train_data, test_data = utils.load_data_fashion_mnist(\n",
    "    batch_size = 64, resize = 224)"
   ]
  },
  {
   "cell_type": "code",
   "execution_count": 3,
   "metadata": {},
   "outputs": [
    {
     "name": "stdout",
     "output_type": "stream",
     "text": [
      "Start training on  gpu(0)\n",
      "Epoch 0. Loss: 2.303, Train acc 0.10, Test acc 0.11, Time 292.5 sec\n"
     ]
    }
   ],
   "source": [
    "from mxnet import init\n",
    "from mxnet import gluon\n",
    "\n",
    "ctx = utils.try_gpu()\n",
    "net.initialize(ctx = ctx, init = init.Xavier())\n",
    "\n",
    "loss = gluon.loss.SoftmaxCrossEntropyLoss()\n",
    "trainer = gluon.Trainer(net.collect_params(), 'sgd', {'learning_rate': 0.01})\n",
    "\n",
    "utils.train(train_data, test_data, net, loss, trainer, ctx, num_epochs = 1)"
   ]
  }
 ],
 "metadata": {
  "kernelspec": {
   "display_name": "Python 3",
   "language": "python",
   "name": "python3"
  },
  "language_info": {
   "codemirror_mode": {
    "name": "ipython",
    "version": 3
   },
   "file_extension": ".py",
   "mimetype": "text/x-python",
   "name": "python",
   "nbconvert_exporter": "python",
   "pygments_lexer": "ipython3",
   "version": "3.6.3"
  }
 },
 "nbformat": 4,
 "nbformat_minor": 2
}
