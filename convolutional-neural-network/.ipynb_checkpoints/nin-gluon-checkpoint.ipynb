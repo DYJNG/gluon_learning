{
 "cells": [
  {
   "cell_type": "code",
   "execution_count": 1,
   "metadata": {},
   "outputs": [
    {
     "name": "stderr",
     "output_type": "stream",
     "text": [
      "/home/dyjng/anaconda3/lib/python3.6/site-packages/urllib3/contrib/pyopenssl.py:46: DeprecationWarning: OpenSSL.rand is deprecated - you should use os.urandom instead\n",
      "  import OpenSSL.SSL\n"
     ]
    }
   ],
   "source": [
    "from mxnet.gluon import nn\n",
    "\n",
    "def mlpconv(channels, kernel_size, padding,\n",
    "          strides = 1, max_pooling = True):\n",
    "    out = nn.Sequential()\n",
    "    out.add(\n",
    "        nn.Conv2D(channels = channels, kernel_size = kernel_size, \n",
    "                  strides = strides, padding = padding, \n",
    "                  activation = 'relu'), \n",
    "        nn.Conv2D(channels = channels, kernel_size = 1, \n",
    "                  padding = 0, strides = 1, activation = 'relu'), \n",
    "        nn.Conv2D(channels = channels, kernel_size = 1, \n",
    "                  padding = 0, strides = 1, activation = 'relu')\n",
    "    )\n",
    "    if max_pooling:\n",
    "        out.add(nn.MaxPool2D(pool_size = 3, strides = 2))\n",
    "    return out"
   ]
  },
  {
   "cell_type": "code",
   "execution_count": 2,
   "metadata": {},
   "outputs": [
    {
     "data": {
      "text/plain": [
       "(32, 64, 6, 6)"
      ]
     },
     "execution_count": 2,
     "metadata": {},
     "output_type": "execute_result"
    }
   ],
   "source": [
    "from mxnet import nd\n",
    "\n",
    "blk = mlpconv(64, 3, 0)\n",
    "blk.initialize()\n",
    "\n",
    "x = nd.random.uniform(shape = (32, 3, 16, 16))\n",
    "y = blk(x)\n",
    "y.shape"
   ]
  },
  {
   "cell_type": "code",
   "execution_count": 3,
   "metadata": {
    "collapsed": true
   },
   "outputs": [],
   "source": [
    "net = nn.Sequential()\n",
    "# add name scope on the outer most Sequential\n",
    "with net.name_scope():\n",
    "    net.add(\n",
    "        mlpconv(96, 11, 0, strides = 4), \n",
    "        mlpconv(256, 5, 2), \n",
    "        mlpconv(384, 3, 1), \n",
    "        nn.Dropout(.5), \n",
    "        # classes = 10\n",
    "        mlpconv(10, 3, 1, max_pooling = False), \n",
    "        # input format is batch_size x 10 x 5 x 5, \n",
    "        # output format is batch_size x 10 x 1 x 1 by AvgPool2D\n",
    "        nn.AvgPool2D(pool_size = 5), \n",
    "        # transform to batch_size x 10\n",
    "        nn.Flatten()\n",
    "    )"
   ]
  },
  {
   "cell_type": "code",
   "execution_count": 4,
   "metadata": {},
   "outputs": [
    {
     "name": "stdout",
     "output_type": "stream",
     "text": [
      "Start training on  gpu(0)\n",
      "Epoch 0. Loss: 2.303, Train acc 0.10, Test acc 0.10, Time 240.3 sec\n"
     ]
    }
   ],
   "source": [
    "import sys\n",
    "sys.path.append('..')\n",
    "import utils\n",
    "from mxnet import gluon\n",
    "from mxnet import init\n",
    "\n",
    "train_data, test_data = utils.load_data_fashion_mnist(\n",
    "    batch_size = 64, resize = 224)\n",
    "\n",
    "ctx = utils.try_gpu()\n",
    "net.initialize(ctx = ctx, init = init.Xavier())\n",
    "\n",
    "loss = gluon.loss.SoftmaxCrossEntropyLoss()\n",
    "trainer = gluon.Trainer(net.collect_params(), \n",
    "                        'sgd', {'learning_rate': 0.1})\n",
    "utils.train(train_data, test_data, net, loss, \n",
    "            trainer, ctx, num_epochs = 1)"
   ]
  },
  {
   "cell_type": "code",
   "execution_count": 5,
   "metadata": {},
   "outputs": [
    {
     "name": "stdout",
     "output_type": "stream",
     "text": [
      "\n",
      "[[[[   0.    1.    2.    3.    4.    5.    6.    7.]\n",
      "   [   8.    9.   10.   11.   12.   13.   14.   15.]\n",
      "   [  16.   17.   18.   19.   20.   21.   22.   23.]\n",
      "   [  24.   25.   26.   27.   28.   29.   30.   31.]\n",
      "   [  32.   33.   34.   35.   36.   37.   38.   39.]\n",
      "   [  40.   41.   42.   43.   44.   45.   46.   47.]\n",
      "   [  48.   49.   50.   51.   52.   53.   54.   55.]\n",
      "   [  56.   57.   58.   59.   60.   61.   62.   63.]]\n",
      "\n",
      "  [[  64.   65.   66.   67.   68.   69.   70.   71.]\n",
      "   [  72.   73.   74.   75.   76.   77.   78.   79.]\n",
      "   [  80.   81.   82.   83.   84.   85.   86.   87.]\n",
      "   [  88.   89.   90.   91.   92.   93.   94.   95.]\n",
      "   [  96.   97.   98.   99.  100.  101.  102.  103.]\n",
      "   [ 104.  105.  106.  107.  108.  109.  110.  111.]\n",
      "   [ 112.  113.  114.  115.  116.  117.  118.  119.]\n",
      "   [ 120.  121.  122.  123.  124.  125.  126.  127.]]]]\n",
      "<NDArray 1x2x8x8 @cpu(0)>\n",
      "\n",
      "[[[[  18.   20.   22.]\n",
      "   [  34.   36.   38.]\n",
      "   [  50.   52.   54.]]\n",
      "\n",
      "  [[  82.   84.   86.]\n",
      "   [  98.  100.  102.]\n",
      "   [ 114.  116.  118.]]]]\n",
      "<NDArray 1x2x3x3 @cpu(0)> (1, 2, 3, 3)\n"
     ]
    }
   ],
   "source": [
    "# uderstand what output dims: dims = floor((n + 2p - f) / s) + 1\n",
    "net1 = nn.Sequential()\n",
    "with net1.name_scope():\n",
    "    net1.add(nn.MaxPool2D(pool_size = 3, strides = 2))\n",
    "net1.initialize()\n",
    "X = nd.arange(128).reshape(shape = (1, 2, 8, 8))\n",
    "print(X)\n",
    "Y = net1(X)\n",
    "print(Y, Y.shape)"
   ]
  }
 ],
 "metadata": {
  "kernelspec": {
   "display_name": "Python 3",
   "language": "python",
   "name": "python3"
  },
  "language_info": {
   "codemirror_mode": {
    "name": "ipython",
    "version": 3
   },
   "file_extension": ".py",
   "mimetype": "text/x-python",
   "name": "python",
   "nbconvert_exporter": "python",
   "pygments_lexer": "ipython3",
   "version": "3.6.3"
  }
 },
 "nbformat": 4,
 "nbformat_minor": 2
}
