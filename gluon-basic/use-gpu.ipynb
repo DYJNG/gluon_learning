{
 "cells": [
  {
   "cell_type": "code",
   "execution_count": 1,
   "metadata": {},
   "outputs": [
    {
     "name": "stdout",
     "output_type": "stream",
     "text": [
      "Thu May 24 00:11:31 2018       \r\n",
      "+-----------------------------------------------------------------------------+\r\n",
      "| NVIDIA-SMI 384.130                Driver Version: 384.130                   |\r\n",
      "|-------------------------------+----------------------+----------------------+\r\n",
      "| GPU  Name        Persistence-M| Bus-Id        Disp.A | Volatile Uncorr. ECC |\r\n",
      "| Fan  Temp  Perf  Pwr:Usage/Cap|         Memory-Usage | GPU-Util  Compute M. |\r\n",
      "|===============================+======================+======================|\r\n",
      "|   0  GeForce GTX 108...  Off  | 00000000:29:00.0  On |                  N/A |\r\n",
      "|  9%   51C    P8    19W / 280W |    314MiB / 11169MiB |     16%      Default |\r\n",
      "+-------------------------------+----------------------+----------------------+\r\n",
      "                                                                               \r\n",
      "+-----------------------------------------------------------------------------+\r\n",
      "| Processes:                                                       GPU Memory |\r\n",
      "|  GPU       PID   Type   Process name                             Usage      |\r\n",
      "|=============================================================================|\r\n",
      "|    0      1207      G   /usr/lib/xorg/Xorg                           195MiB |\r\n",
      "|    0      2039      G   compiz                                       116MiB |\r\n",
      "+-----------------------------------------------------------------------------+\r\n"
     ]
    }
   ],
   "source": [
    "!nvidia-smi"
   ]
  },
  {
   "cell_type": "code",
   "execution_count": 2,
   "metadata": {},
   "outputs": [
    {
     "name": "stderr",
     "output_type": "stream",
     "text": [
      "You are using pip version 9.0.3, however version 10.0.1 is available.\n",
      "You should consider upgrading via the 'pip install --upgrade pip' command.\n",
      "You are using pip version 9.0.3, however version 10.0.1 is available.\n",
      "You should consider upgrading via the 'pip install --upgrade pip' command.\n"
     ]
    },
    {
     "name": "stdout",
     "output_type": "stream",
     "text": [
      "Name: mxnet-cu80\n",
      "Version: 0.12.1\n",
      "Summary: MXNet is an ultra-scalable deep learning framework. This version uses CUDA-8.0.\n",
      "Home-page: https://github.com/dmlc/mxnet\n",
      "Author: UNKNOWN\n",
      "Author-email: UNKNOWN\n",
      "License: Apache 2.0\n",
      "Location: /home/dyjng/anaconda3/lib/python3.6/site-packages\n",
      "Requires: numpy, graphviz, requests\n"
     ]
    },
    {
     "name": "stderr",
     "output_type": "stream",
     "text": [
      "You are using pip version 9.0.3, however version 10.0.1 is available.\n",
      "You should consider upgrading via the 'pip install --upgrade pip' command.\n"
     ]
    }
   ],
   "source": [
    "import pip\n",
    "for pkg in ['mxnet', 'mxnet-cu75', 'mxnet-cu80']:\n",
    "    pip.main(['show',pkg])"
   ]
  },
  {
   "cell_type": "code",
   "execution_count": 3,
   "metadata": {},
   "outputs": [
    {
     "name": "stderr",
     "output_type": "stream",
     "text": [
      "/home/dyjng/anaconda3/lib/python3.6/site-packages/urllib3/contrib/pyopenssl.py:46: DeprecationWarning: OpenSSL.rand is deprecated - you should use os.urandom instead\n",
      "  import OpenSSL.SSL\n"
     ]
    },
    {
     "data": {
      "text/plain": [
       "[cpu(0), gpu(0), gpu(1)]"
      ]
     },
     "execution_count": 3,
     "metadata": {},
     "output_type": "execute_result"
    }
   ],
   "source": [
    "import mxnet as mx\n",
    "[mx.cpu(), mx.gpu(), mx.gpu(1)]"
   ]
  },
  {
   "cell_type": "code",
   "execution_count": 4,
   "metadata": {},
   "outputs": [
    {
     "name": "stdout",
     "output_type": "stream",
     "text": [
      "(3,)\n"
     ]
    }
   ],
   "source": [
    "from mxnet import nd\n",
    "x = nd.array([1, 2, 3]) # (3, 1)\n",
    "# x = nd.array([[1], [2], [3]])    # (3, 1)\n",
    "# x = nd.array([[1, 2, 3]])   # (1, 3)\n",
    "x.context\n",
    "print(x.shape)"
   ]
  },
  {
   "cell_type": "code",
   "execution_count": 5,
   "metadata": {},
   "outputs": [
    {
     "data": {
      "text/plain": [
       "(\n",
       " [ 1.  2.  3.]\n",
       " <NDArray 3 @gpu(0)>, \n",
       " [[ 0.  0.]\n",
       "  [ 0.  0.]\n",
       "  [ 0.  0.]]\n",
       " <NDArray 3x2 @gpu(0)>, \n",
       " [[ 0.32977498  0.43025011  0.70026755]\n",
       "  [ 0.77781075  0.29912937  0.39169419]]\n",
       " <NDArray 2x3 @gpu(0)>)"
      ]
     },
     "execution_count": 5,
     "metadata": {},
     "output_type": "execute_result"
    }
   ],
   "source": [
    "a = nd.array([1, 2, 3], ctx = mx.gpu())\n",
    "b = nd.zeros((3, 2), ctx = mx.gpu())\n",
    "c = nd.random.uniform(shape = (2, 3), ctx = mx.gpu())\n",
    "(a, b, c)"
   ]
  },
  {
   "cell_type": "code",
   "execution_count": 6,
   "metadata": {},
   "outputs": [
    {
     "name": "stderr",
     "output_type": "stream",
     "text": [
      "[00:11:33] src/storage/storage.cc:59: Check failed: e == cudaSuccess || e == cudaErrorCudartUnloading CUDA: invalid device ordinal\n",
      "\n",
      "Stack trace returned 10 entries:\n",
      "[bt] (0) /home/dyjng/anaconda3/lib/python3.6/site-packages/mxnet/libmxnet.so(+0x26ab7c) [0x7faa64b0bb7c]\n",
      "[bt] (1) /home/dyjng/anaconda3/lib/python3.6/site-packages/mxnet/libmxnet.so(+0x261c4fd) [0x7faa66ebd4fd]\n",
      "[bt] (2) /home/dyjng/anaconda3/lib/python3.6/site-packages/mxnet/libmxnet.so(+0x261a024) [0x7faa66ebb024]\n",
      "[bt] (3) /home/dyjng/anaconda3/lib/python3.6/site-packages/mxnet/libmxnet.so(+0x2077998) [0x7faa66918998]\n",
      "[bt] (4) /home/dyjng/anaconda3/lib/python3.6/site-packages/mxnet/libmxnet.so(MXNDArrayCreateEx+0x145) [0x7faa6690ed55]\n",
      "[bt] (5) /home/dyjng/anaconda3/lib/python3.6/lib-dynload/../../libffi.so.6(ffi_call_unix64+0x4c) [0x7faa9e637ec0]\n",
      "[bt] (6) /home/dyjng/anaconda3/lib/python3.6/lib-dynload/../../libffi.so.6(ffi_call+0x22d) [0x7faa9e63787d]\n",
      "[bt] (7) /home/dyjng/anaconda3/lib/python3.6/lib-dynload/_ctypes.cpython-36m-x86_64-linux-gnu.so(_ctypes_callproc+0x2ce) [0x7faa9e84c82e]\n",
      "[bt] (8) /home/dyjng/anaconda3/lib/python3.6/lib-dynload/_ctypes.cpython-36m-x86_64-linux-gnu.so(+0x12265) [0x7faa9e84d265]\n",
      "[bt] (9) /home/dyjng/anaconda3/bin/python(_PyObject_FastCallDict+0x8b) [0x5626e055c54b]\n"
     ]
    }
   ],
   "source": [
    "import sys\n",
    "\n",
    "try:\n",
    "    nd.array([1, 2, 3], ctx = mx.gpu(5))\n",
    "except mx.MXNetError as err:\n",
    "    sys.stderr.write(str(err))"
   ]
  },
  {
   "cell_type": "code",
   "execution_count": 7,
   "metadata": {},
   "outputs": [
    {
     "data": {
      "text/plain": [
       "(\n",
       " [ 1.  2.  3.]\n",
       " <NDArray 3 @gpu(0)>, \n",
       " [ 1.  2.  3.]\n",
       " <NDArray 3 @gpu(0)>, False, False)"
      ]
     },
     "execution_count": 7,
     "metadata": {},
     "output_type": "execute_result"
    }
   ],
   "source": [
    "y = x.copyto(mx.gpu())  # x in CPU\n",
    "z = x.as_in_context(mx.gpu())\n",
    "(y, z, y is x, z is x)"
   ]
  },
  {
   "cell_type": "code",
   "execution_count": 8,
   "metadata": {},
   "outputs": [
    {
     "data": {
      "text/plain": [
       "(True, False)"
      ]
     },
     "execution_count": 8,
     "metadata": {},
     "output_type": "execute_result"
    }
   ],
   "source": [
    "yy = y.as_in_context(mx.gpu())  # y in GPU\n",
    "zz = z.copyto(mx.gpu())\n",
    "# copyto always rebulit memory while as_in_context not if source and item all gpu/cpu\n",
    "(yy is y, zz is z)"
   ]
  },
  {
   "cell_type": "code",
   "execution_count": 9,
   "metadata": {},
   "outputs": [
    {
     "data": {
      "text/plain": [
       "\n",
       "[  20.08553696  109.19629669  445.23950195]\n",
       "<NDArray 3 @gpu(0)>"
      ]
     },
     "execution_count": 9,
     "metadata": {},
     "output_type": "execute_result"
    }
   ],
   "source": [
    "nd.exp(z + 2) * y"
   ]
  },
  {
   "cell_type": "code",
   "execution_count": 10,
   "metadata": {},
   "outputs": [
    {
     "name": "stderr",
     "output_type": "stream",
     "text": [
      "[00:11:33] src/imperative/./imperative_utils.h:54: Check failed: inputs[i]->ctx().dev_mask() == ctx.dev_mask() (2 vs. 1) Operator broadcast_add require all inputs live on the same context. But the first argument is on cpu(0) while the 2-th argument is on gpu(0)\n",
      "\n",
      "Stack trace returned 10 entries:\n",
      "[bt] (0) /home/dyjng/anaconda3/lib/python3.6/site-packages/mxnet/libmxnet.so(+0x26ab7c) [0x7faa64b0bb7c]\n",
      "[bt] (1) /home/dyjng/anaconda3/lib/python3.6/site-packages/mxnet/libmxnet.so(+0x214781c) [0x7faa669e881c]\n",
      "[bt] (2) /home/dyjng/anaconda3/lib/python3.6/site-packages/mxnet/libmxnet.so(+0x2139e4e) [0x7faa669dae4e]\n",
      "[bt] (3) /home/dyjng/anaconda3/lib/python3.6/site-packages/mxnet/libmxnet.so(+0x2090441) [0x7faa66931441]\n",
      "[bt] (4) /home/dyjng/anaconda3/lib/python3.6/site-packages/mxnet/libmxnet.so(MXImperativeInvokeEx+0x63) [0x7faa669317e3]\n",
      "[bt] (5) /home/dyjng/anaconda3/lib/python3.6/lib-dynload/../../libffi.so.6(ffi_call_unix64+0x4c) [0x7faa9e637ec0]\n",
      "[bt] (6) /home/dyjng/anaconda3/lib/python3.6/lib-dynload/../../libffi.so.6(ffi_call+0x22d) [0x7faa9e63787d]\n",
      "[bt] (7) /home/dyjng/anaconda3/lib/python3.6/lib-dynload/_ctypes.cpython-36m-x86_64-linux-gnu.so(_ctypes_callproc+0x2ce) [0x7faa9e84c82e]\n",
      "[bt] (8) /home/dyjng/anaconda3/lib/python3.6/lib-dynload/_ctypes.cpython-36m-x86_64-linux-gnu.so(+0x12265) [0x7faa9e84d265]\n",
      "[bt] (9) /home/dyjng/anaconda3/bin/python(_PyObject_FastCallDict+0x8b) [0x5626e055c54b]\n"
     ]
    }
   ],
   "source": [
    "# x in cpu, y in gpu\n",
    "try:\n",
    "    x + y\n",
    "except mx.MXNetError as err:\n",
    "    sys.stderr.write(str(err))"
   ]
  },
  {
   "cell_type": "code",
   "execution_count": 11,
   "metadata": {},
   "outputs": [
    {
     "name": "stdout",
     "output_type": "stream",
     "text": [
      "\n",
      "[ 1.  2.  3.]\n",
      "<NDArray 3 @gpu(0)>\n",
      "[ 1.  2.  3.]\n",
      "6.0\n"
     ]
    }
   ],
   "source": [
    "print(y)\n",
    "# follow process will auto copy y to CPU primary memory\n",
    "print(y.asnumpy())\n",
    "print(y.sum().asscalar())"
   ]
  },
  {
   "cell_type": "code",
   "execution_count": 12,
   "metadata": {},
   "outputs": [],
   "source": [
    "from mxnet import gluon\n",
    "net = gluon.nn.Sequential()\n",
    "net.add(gluon.nn.Dense(1))\n",
    "\n",
    "net.initialize(ctx = mx.gpu())"
   ]
  },
  {
   "cell_type": "code",
   "execution_count": 13,
   "metadata": {},
   "outputs": [
    {
     "data": {
      "text/plain": [
       "\n",
       "[[ 0.04118239]\n",
       " [ 0.08236478]\n",
       " [ 0.12354717]]\n",
       "<NDArray 3x1 @gpu(0)>"
      ]
     },
     "execution_count": 13,
     "metadata": {},
     "output_type": "execute_result"
    }
   ],
   "source": [
    "# data = nd.random_uniform(shape = [3, 2], ctx = mx.gpu())\n",
    "net(y)"
   ]
  },
  {
   "cell_type": "code",
   "execution_count": 14,
   "metadata": {},
   "outputs": [
    {
     "data": {
      "text/plain": [
       "\n",
       "[[ 0.04118239]]\n",
       "<NDArray 1x1 @gpu(0)>"
      ]
     },
     "execution_count": 14,
     "metadata": {},
     "output_type": "execute_result"
    }
   ],
   "source": [
    "net[0].weight.data()"
   ]
  },
  {
   "cell_type": "code",
   "execution_count": null,
   "metadata": {
    "collapsed": true
   },
   "outputs": [],
   "source": []
  }
 ],
 "metadata": {
  "kernelspec": {
   "display_name": "Python 3",
   "language": "python",
   "name": "python3"
  },
  "language_info": {
   "codemirror_mode": {
    "name": "ipython",
    "version": 3
   },
   "file_extension": ".py",
   "mimetype": "text/x-python",
   "name": "python",
   "nbconvert_exporter": "python",
   "pygments_lexer": "ipython3",
   "version": "3.6.3"
  }
 },
 "nbformat": 4,
 "nbformat_minor": 2
}
