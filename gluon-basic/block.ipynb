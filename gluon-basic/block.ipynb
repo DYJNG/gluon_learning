{
 "cells": [
  {
   "cell_type": "code",
   "execution_count": 1,
   "metadata": {},
   "outputs": [
    {
     "name": "stdout",
     "output_type": "stream",
     "text": [
      "Sequential(\n",
      "  (0): Dense(256, Activation(relu))\n",
      "  (1): Dense(10, linear)\n",
      ")\n"
     ]
    },
    {
     "name": "stderr",
     "output_type": "stream",
     "text": [
      "/home/dyjng/anaconda3/lib/python3.6/site-packages/urllib3/contrib/pyopenssl.py:46: DeprecationWarning: OpenSSL.rand is deprecated - you should use os.urandom instead\n",
      "  import OpenSSL.SSL\n"
     ]
    }
   ],
   "source": [
    "from mxnet import nd\n",
    "from mxnet.gluon import nn\n",
    "\n",
    "net = nn.Sequential()\n",
    "with net.name_scope():\n",
    "    net.add(nn.Dense(256, activation = 'relu'))\n",
    "    net.add(nn.Dense(10))\n",
    "\n",
    "print(net)"
   ]
  },
  {
   "cell_type": "code",
   "execution_count": 2,
   "metadata": {
    "collapsed": true
   },
   "outputs": [],
   "source": [
    "# define MLP which is subclass of nn.Block\n",
    "class MLP(nn.Block):\n",
    "    # recall nn_Block.__init__ which contains prefix and params\n",
    "    def __init__(self, **kwargs):\n",
    "        super(MLP, self).__init__(**kwargs)\n",
    "        # recall nn_Block.name_scope()\n",
    "        with self.name_scope():\n",
    "            self.dense0 = nn.Dense(256)\n",
    "            self.dense1 = nn.Dense(10)\n",
    "        \n",
    "    def forward(self, x):\n",
    "        return self.dense1(nd.relu(self.dense0(x)))"
   ]
  },
  {
   "cell_type": "code",
   "execution_count": 3,
   "metadata": {},
   "outputs": [
    {
     "name": "stdout",
     "output_type": "stream",
     "text": [
      "MLP(\n",
      "  (dense0): Dense(256, linear)\n",
      "  (dense1): Dense(10, linear)\n",
      ")\n"
     ]
    },
    {
     "data": {
      "text/plain": [
       "\n",
       "[[ 0.05502447  0.01093244 -0.05812225 -0.00867474  0.00780752 -0.03732029\n",
       "  -0.11888048 -0.01667178 -0.12706244 -0.00605519]\n",
       " [ 0.05254333 -0.03761618 -0.03303654 -0.06370584  0.02936437 -0.04790818\n",
       "  -0.07402188  0.00388384 -0.09476319  0.00247342]\n",
       " [ 0.03847572 -0.01801044 -0.02936447 -0.04202728  0.00755377 -0.06616984\n",
       "  -0.08015118  0.04540668 -0.08034274  0.00180145]\n",
       " [ 0.03042224 -0.04749024 -0.00121015 -0.08124933  0.03479041 -0.06163511\n",
       "  -0.10677548  0.04019741 -0.1076465   0.01437488]]\n",
       "<NDArray 4x10 @cpu(0)>"
      ]
     },
     "execution_count": 3,
     "metadata": {},
     "output_type": "execute_result"
    }
   ],
   "source": [
    "net2 = MLP()\n",
    "print(net2)\n",
    "net2.initialize()\n",
    "x = nd.random.uniform(shape = (4, 20))\n",
    "y = net2(x)\n",
    "y"
   ]
  },
  {
   "cell_type": "code",
   "execution_count": 4,
   "metadata": {},
   "outputs": [
    {
     "data": {
      "text/plain": [
       "mxnet.gluon.nn.basic_layers.Dense"
      ]
     },
     "execution_count": 4,
     "metadata": {},
     "output_type": "execute_result"
    }
   ],
   "source": [
    "nn.Dense"
   ]
  },
  {
   "cell_type": "code",
   "execution_count": 5,
   "metadata": {},
   "outputs": [
    {
     "name": "stdout",
     "output_type": "stream",
     "text": [
      "default prefix: mlp0_dense0\n",
      "customized prefix: another_mlp_dense0\n"
     ]
    }
   ],
   "source": [
    "print('default prefix:', net2.dense0.name)\n",
    "\n",
    "net3 = MLP(prefix = 'another_mlp_')\n",
    "print('customized prefix:', net3.dense0.name)"
   ]
  },
  {
   "cell_type": "code",
   "execution_count": 6,
   "metadata": {
    "collapsed": true
   },
   "outputs": [],
   "source": [
    "class Sequential(nn.Block):\n",
    "    def __init__(self, **kwargs):\n",
    "        super(Sequential, self).__init__(**kwargs)\n",
    "    def add(self, block):\n",
    "        self._children.append(block)\n",
    "    def forward(self, x):\n",
    "        # execute blocks one by one \n",
    "        for block in self._children:\n",
    "            # recursion\n",
    "            x = block(x)\n",
    "        return x"
   ]
  },
  {
   "cell_type": "code",
   "execution_count": 7,
   "metadata": {},
   "outputs": [
    {
     "data": {
      "text/plain": [
       "\n",
       "[[-0.05634359  0.09217402  0.06786803  0.00810092  0.00316704 -0.06578711\n",
       "   0.02175836  0.00841999  0.0647321   0.01264806]\n",
       " [-0.0608877   0.06674264  0.08634251  0.06163288 -0.01288303 -0.01728502\n",
       "  -0.00963083  0.0280523   0.02129908  0.05371749]\n",
       " [-0.04579362  0.11277001  0.0501334   0.01711009 -0.00263513 -0.04143213\n",
       "   0.01833685  0.02963726  0.05529994  0.01901205]\n",
       " [-0.09248228  0.1179922   0.08974072  0.02259768  0.01704468 -0.07296751\n",
       "   0.02300572  0.038479    0.05917452  0.03611853]]\n",
       "<NDArray 4x10 @cpu(0)>"
      ]
     },
     "execution_count": 7,
     "metadata": {},
     "output_type": "execute_result"
    }
   ],
   "source": [
    "net4 = Sequential()\n",
    "with net4.name_scope():\n",
    "    net4.add(nn.Dense(256, activation = 'relu'))\n",
    "    net4.add(nn.Dense(10))\n",
    "\n",
    "net4.initialize()\n",
    "y = net4(x)\n",
    "y"
   ]
  },
  {
   "cell_type": "code",
   "execution_count": 8,
   "metadata": {
    "collapsed": true
   },
   "outputs": [],
   "source": [
    "class FancyMLP(nn.Block):\n",
    "    def __init__(self, **kwargs):\n",
    "        super(FancyMLP, self).__init__(**kwargs)\n",
    "        with self.name_scope():\n",
    "            self.dense = nn.Dense(256)\n",
    "            self.weight = nd.random_uniform(shape = (256, 20))\n",
    "    \n",
    "    def forward(self, x):\n",
    "        x = nd.relu(self.dense(x))\n",
    "        x = nd.relu(nd.dot(x, self.weight) + 1)\n",
    "        x = nd.relu(self.dense(x))\n",
    "        return x"
   ]
  },
  {
   "cell_type": "code",
   "execution_count": 9,
   "metadata": {},
   "outputs": [
    {
     "name": "stdout",
     "output_type": "stream",
     "text": [
      "FancyMLP(\n",
      "  (dense): Dense(256, linear)\n",
      ")\n",
      "(4, 256)\n"
     ]
    }
   ],
   "source": [
    "fancy_mlp = FancyMLP()\n",
    "print(fancy_mlp)\n",
    "fancy_mlp.initialize()\n",
    "y = fancy_mlp(x)\n",
    "print(y.shape)"
   ]
  },
  {
   "cell_type": "code",
   "execution_count": 10,
   "metadata": {},
   "outputs": [
    {
     "name": "stdout",
     "output_type": "stream",
     "text": [
      "Sequential(\n",
      "  (0): RecMLP(\n",
      "    (net): Sequential(\n",
      "      (0): Dense(256, Activation(relu))\n",
      "      (1): Dense(128, Activation(relu))\n",
      "    )\n",
      "    (dense): Dense(64, linear)\n",
      "  )\n",
      "  (1): Dense(10, linear)\n",
      ")\n"
     ]
    }
   ],
   "source": [
    "class RecMLP(nn.Block):\n",
    "    def __init__(self, **kwargs):\n",
    "        super(RecMLP, self).__init__(**kwargs)\n",
    "        self.net = nn.Sequential()\n",
    "        with self.name_scope():\n",
    "            self.net.add(nn.Dense(256, activation = 'relu'))\n",
    "            self.net.add(nn.Dense(128, activation = 'relu'))\n",
    "            self.dense = nn.Dense(64)\n",
    "            \n",
    "        def forward(self, x):\n",
    "            return nd.relu(self.dense(self.net(x)))\n",
    "        \n",
    "rec_mlp = nn.Sequential()\n",
    "rec_mlp.add(RecMLP())\n",
    "rec_mlp.add(nn.Dense(10))\n",
    "print(rec_mlp)"
   ]
  },
  {
   "cell_type": "code",
   "execution_count": 11,
   "metadata": {},
   "outputs": [
    {
     "name": "stdout",
     "output_type": "stream",
     "text": [
      "RecMLP1(\n",
      "  (net): Sequential(\n",
      "  \n",
      "  )\n",
      ")\n"
     ]
    }
   ],
   "source": [
    "class RecMLP1(nn.Block):\n",
    "    def __init__(self, **kwargs):\n",
    "        super(RecMLP1, self).__init__(**kwargs)\n",
    "        self.net = nn.Sequential()\n",
    "        with self.name_scope():\n",
    "            self.dense = [nn.Dense(256), nn.Dense(128), nn.Dense(64)]\n",
    "            \n",
    "        def forward(self, x):\n",
    "            for dense in self.dense:\n",
    "                x = nn.relu(dense(self.net(x)))\n",
    "            return x\n",
    "\n",
    "rec_mlp1 = RecMLP1()\n",
    "print(rec_mlp1)"
   ]
  },
  {
   "cell_type": "code",
   "execution_count": null,
   "metadata": {
    "collapsed": true
   },
   "outputs": [],
   "source": []
  }
 ],
 "metadata": {
  "kernelspec": {
   "display_name": "Python 3",
   "language": "python",
   "name": "python3"
  },
  "language_info": {
   "codemirror_mode": {
    "name": "ipython",
    "version": 3
   },
   "file_extension": ".py",
   "mimetype": "text/x-python",
   "name": "python",
   "nbconvert_exporter": "python",
   "pygments_lexer": "ipython3",
   "version": "3.6.3"
  }
 },
 "nbformat": 4,
 "nbformat_minor": 2
}
